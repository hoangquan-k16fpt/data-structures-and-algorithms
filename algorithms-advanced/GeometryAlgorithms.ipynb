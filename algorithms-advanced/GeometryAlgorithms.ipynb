{
 "cells": [
  {
   "cell_type": "markdown",
   "id": "d1848a4c-1652-4a1a-940b-076a1a5297b5",
   "metadata": {},
   "source": [
    "## 1. Viết thuật toán xác định hai đoạn thẳng cắt nhau hay không.\n",
    "def is_intersec(p1, p2, q1, q2):\n",
    "         # dữ liệu các điểm pi, qi có dạng list, ví dụ [2.1, 1.3] là toạ độ của điểm (2.1, 1.3)\n",
    "         return '\n",
    "         "
   ]
  },
  {
   "cell_type": "code",
   "execution_count": 1,
   "id": "4da81669-29e2-4457-947a-0e89283ac457",
   "metadata": {
    "tags": []
   },
   "outputs": [
    {
     "name": "stdout",
     "output_type": "stream",
     "text": [
      "Hai doan thang cat nhau.\n"
     ]
    }
   ],
   "source": [
    "def orientation(p, q, r):\n",
    "    val = (q[1] - p[1]) * (r[0] - q[0]) - (q[0] - p[0]) * (r[1] - q[1])\n",
    "    if val == 0:\n",
    "        return 0\n",
    "    return 1 if val > 0 else -1\n",
    "\n",
    "def on_segment(p, q, r):\n",
    "    return (q[0] <= max(p[0], r[0]) and q[0] >= min(p[0], r[0]) and\n",
    "            q[1] <= max(p[1], r[1]) and q[1] >= min(p[1], r[1]))\n",
    "\n",
    "def is_intersec(p1, p2, q1, q2):\n",
    "    o1 = orientation(p1, p2, q1)\n",
    "    o2 = orientation(p1, p2, q2)\n",
    "    o3 = orientation(q1, q2, p1)\n",
    "    o4 = orientation(q1, q2, p2)\n",
    "\n",
    "    if (o1 != o2 and o3 != o4):\n",
    "        return True\n",
    "\n",
    "    if (o1 == 0 and on_segment(p1, q1, p2)):\n",
    "        return True\n",
    "\n",
    "    if (o2 == 0 and on_segment(p1, q2, p2)):\n",
    "        return True\n",
    "\n",
    "    if (o3 == 0 and on_segment(q1, p1, q2)):\n",
    "        return True\n",
    "\n",
    "    if (o4 == 0 and on_segment(q1, p2, q2)):\n",
    "        return True\n",
    "\n",
    "    return False\n",
    "\n",
    "# Test\n",
    "p1 = [1, 1]\n",
    "p2 = [4, 4]\n",
    "q1 = [1, 4]\n",
    "q2 = [4, 1]\n",
    "\n",
    "if is_intersec(p1, p2, q1, q2):\n",
    "    print(\"Hai doan thang cat nhau.\")\n",
    "else:\n",
    "    print(\"Hai doan thang khong cat nhau.\")"
   ]
  },
  {
   "cell_type": "markdown",
   "id": "8571e77d-7a9e-43fa-beb8-37c736ad2bbe",
   "metadata": {},
   "source": [
    "## 2. A. Cho n điểm A1, ...,An, giả sử n điểm đó tạo thành 1 đa giác lồi. Viết thuật toán xem thứ tự các điểm đó đi theo chiều kim đồng hồ hay ngược lại.\n",
    "def is_clockwise(points):\n",
    "        # points là list của list, biểu diễn các điểm\n",
    "        return"
   ]
  },
  {
   "cell_type": "code",
   "execution_count": 2,
   "id": "fbb71670-a6a7-4098-aebe-5c8ec8038152",
   "metadata": {
    "tags": []
   },
   "outputs": [
    {
     "name": "stdout",
     "output_type": "stream",
     "text": [
      "True\n",
      "True\n",
      "False\n"
     ]
    }
   ],
   "source": [
    "from math import atan2\n",
    "def orientation(p, q, r):\n",
    "    val = (q[1] - p[1]) * (r[0] - q[0]) - (q[0] - p[0]) * (r[1] - q[1])\n",
    "    return val\n",
    "\n",
    "def is_clockwise(points):\n",
    "    n = len(points)\n",
    "    if n < 3:\n",
    "        return None\n",
    "\n",
    "    clockwise = 0\n",
    "    counterclockwise = 0\n",
    "\n",
    "    for i in range(n):\n",
    "        p = points[i]\n",
    "        q = points[(i + 1) % n]\n",
    "        r = points[(i + 2) % n]\n",
    "        val = orientation(p, q, r)\n",
    "\n",
    "        if val > 0:\n",
    "            clockwise += 1\n",
    "        elif val < 0:\n",
    "            counterclockwise += 1\n",
    "\n",
    "    if clockwise > 0 and counterclockwise == 0:\n",
    "        # Tất cả các hướng quay đều theo chiều kim đồng hồ\n",
    "        return True\n",
    "    elif counterclockwise > 0 and clockwise == 0:\n",
    "        # Tất cả các hướng quay đều ngược chiều kim đồng hồ\n",
    "        return False\n",
    "    else:\n",
    "        # Trường hợp không xác định được\n",
    "        return None\n",
    "\n",
    "points_1 = [[0, 0], [0, 1], [1, 0]]\n",
    "print(is_clockwise(points_1)) # Output: True\n",
    "\n",
    "points_2 = [[0, 0], [0, 1], [1, 1], [1, 0]]\n",
    "print(is_clockwise(points_2)) # Output: True\n",
    "\n",
    "points_3 = [[0, 0], [1, 0], [0, 1]]\n",
    "print(is_clockwise(points_3)) # Output: False\n"
   ]
  },
  {
   "cell_type": "markdown",
   "id": "bcdf0ef9-3e05-4f3f-b265-6d38c2322238",
   "metadata": {},
   "source": [
    "## 2. B. Cho n điểm A1, ...,An tạo thành đa giác, không nhất thiết lồi. Viết thuật toán xem thứ tự các điểm đó đi theo chiều kim đồng hồ hay ngược lại."
   ]
  },
  {
   "cell_type": "code",
   "execution_count": 3,
   "id": "047e5b27-414e-40e5-8bc0-c515e2138fe9",
   "metadata": {
    "tags": []
   },
   "outputs": [
    {
     "name": "stdout",
     "output_type": "stream",
     "text": [
      "counterclockwise\n"
     ]
    }
   ],
   "source": [
    "def cross_product(p1, p2, p3):\n",
    "    # Calculate the cross product of vectors p1p2 and p2p3\n",
    "    return (p2[0] - p1[0]) * (p3[1] - p2[1]) - (p2[1] - p1[1]) * (p3[0] - p2[0])\n",
    "\n",
    "def check_orientation(points):\n",
    "    n = len(points)\n",
    "    if n < 3:\n",
    "        # A polygon must have at least three points\n",
    "        raise ValueError(\"The polygon must have at least three points.\")\n",
    "\n",
    "    sum_cross_product = 0\n",
    "    for i in range(n):\n",
    "        sum_cross_product += cross_product(points[i], points[(i + 1) % n], points[(i + 2) % n])\n",
    "\n",
    "    if sum_cross_product > 0:\n",
    "        return \"counterclockwise\"\n",
    "    elif sum_cross_product < 0:\n",
    "        return \"clockwise\"\n",
    "    else:\n",
    "        return \"neither clockwise nor counterclockwise\"\n",
    "\n",
    "points = [(0, 0), (1, 0), (1, 1), (0, 1)]\n",
    "print(check_orientation(points))  # Output: counterclockwise"
   ]
  },
  {
   "cell_type": "markdown",
   "id": "4f27aed3-919a-48cb-b40e-d8af4e28753b",
   "metadata": {},
   "source": [
    "## 3. Cho 1 đa giác lồi, và 1 điểm nằm ngoài đa giác. Viết thuật toán tìm đa giác lồi tạo bởi đa giác đã cho và điểm mới đó."
   ]
  },
  {
   "cell_type": "code",
   "execution_count": 4,
   "id": "96a18a39-3b2e-4366-a2fe-a42731132322",
   "metadata": {
    "tags": []
   },
   "outputs": [],
   "source": [
    "import math\n",
    "def findConvexPolygon(polygon, outsidePoint):\n",
    "    startingPoint = closestVertex(polygon, outsidePoint)\n",
    "    sortedVertices = sortVerticesCounterClockwise(polygon, startingPoint)\n",
    "    sortedVertices.append(outsidePoint)\n",
    "    return constructConvexPolygon(sortedVertices)\n",
    "\n",
    "def closestVertex(polygon, point):\n",
    "    minDistance = float('inf')\n",
    "    closestVertex = None\n",
    "    for vertex in polygon:\n",
    "        distance = distanceBetween(vertex, point)\n",
    "        if distance < minDistance:\n",
    "            minDistance = distance\n",
    "            closestVertex = vertex\n",
    "    return closestVertex\n",
    "\n",
    "def sortVerticesCounterClockwise(polygon, startingPoint):\n",
    "    sortedVertices = list(polygon)\n",
    "    sortedVertices.sort(key=lambda vertex: angleWithRespectTo(startingPoint, vertex))\n",
    "    return sortedVertices\n",
    "\n",
    "def angleWithRespectTo(referencePoint, point):\n",
    "    return math.atan2(point[1] - referencePoint[1], point[0] - referencePoint[0])\n",
    "\n",
    "def distanceBetween(point1, point2):\n",
    "    return math.sqrt((point2[0] - point1[0]) ** 2 + (point2[1] - point1[1]) ** 2)\n",
    "\n",
    "def constructConvexPolygon(sortedVertices):\n",
    "    convexPolygon = []\n",
    "    for vertex in sortedVertices:\n",
    "        while len(convexPolygon) >= 2 and isClockwise(convexPolygon[-2], convexPolygon[-1], vertex):\n",
    "            convexPolygon.pop()\n",
    "        convexPolygon.append(vertex)\n",
    "    return convexPolygon\n",
    "\n",
    "def isClockwise(point1, point2, point3):\n",
    "    return (point2[1] - point1[1]) * (point3[0] - point2[0]) - (point2[0] - point1[0]) * (point3[1] - point2[1]) < 0\n"
   ]
  },
  {
   "cell_type": "code",
   "execution_count": 5,
   "id": "b51465ab-5183-4d97-8a0e-31d0628f3889",
   "metadata": {
    "tags": []
   },
   "outputs": [
    {
     "name": "stdout",
     "output_type": "stream",
     "text": [
      "[(0, 0), (0, 5), (3, 3)]\n"
     ]
    }
   ],
   "source": [
    "polygon = [(0, 0), (5, 0), (5, 5), (0, 5)]\n",
    "outsidePoint = (3, 3)\n",
    "\n",
    "convexPolygonWithOutsidePoint = findConvexPolygon(polygon, outsidePoint)\n",
    "print(convexPolygonWithOutsidePoint)\n"
   ]
  }
 ],
 "metadata": {
  "kernelspec": {
   "display_name": "Python 3 (ipykernel)",
   "language": "python",
   "name": "python3"
  },
  "language_info": {
   "codemirror_mode": {
    "name": "ipython",
    "version": 3
   },
   "file_extension": ".py",
   "mimetype": "text/x-python",
   "name": "python",
   "nbconvert_exporter": "python",
   "pygments_lexer": "ipython3",
   "version": "3.10.9"
  }
 },
 "nbformat": 4,
 "nbformat_minor": 5
}
